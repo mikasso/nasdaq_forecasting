{
 "cells": [
  {
   "cell_type": "code",
   "execution_count": null,
   "metadata": {},
   "outputs": [],
   "source": [
    "import const as CONST\n",
    "import matplotlib.pyplot as plt\n",
    "from darts.metrics import mape\n",
    "from darts import TimeSeries\n",
    "import pandas as pd\n",
    "import const as CONST\n",
    "import warnings\n",
    "import os\n",
    "from run import MODEL_CONFIGS \n",
    "\n",
    "warnings.simplefilter(action=\"ignore\", category=FutureWarning)\n",
    "\n",
    "from darts import concatenate\n",
    "from datasets import load_datasets"
   ]
  },
  {
   "cell_type": "code",
   "execution_count": null,
   "metadata": {},
   "outputs": [],
   "source": [
    "from view_results import load_results\n",
    "\n",
    "\n",
    "ds = load_datasets()\n",
    "\n",
    "for config in mo\n",
    "predictions = load_results(config)\n",
    "for prediction, ticker in zip(predictions, ds.original.used_tickers):\n",
    "    if config.output_len == 1:\n",
    "        result = concatenate(prediction, 0)\n",
    "        result.to_csv(f\"{config.result_path}/{ticker}.csv\")\n",
    "\n"
   ]
  }
 ],
 "metadata": {
  "language_info": {
   "name": "python"
  },
  "orig_nbformat": 4
 },
 "nbformat": 4,
 "nbformat_minor": 2
}
