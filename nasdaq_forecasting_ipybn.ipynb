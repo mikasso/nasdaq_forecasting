{
  "cells": [
    {
      "cell_type": "code",
      "execution_count": null,
      "metadata": {
        "colab": {
          "base_uri": "https://localhost:8080/"
        },
        "id": "Y-M-hS5yQV_Y",
        "outputId": "9aa42130-f80b-4d88-9b03-99808a028b37"
      },
      "outputs": [
        {
          "name": "stdout",
          "output_type": "stream",
          "text": [
            "Reading package lists... Done\n",
            "Building dependency tree       \n",
            "Reading state information... Done\n",
            "git is already the newest version (1:2.25.1-1ubuntu3.11).\n",
            "0 upgraded, 0 newly installed, 0 to remove and 24 not upgraded.\n"
          ]
        }
      ],
      "source": [
        "!apt-get install git"
      ]
    },
    {
      "cell_type": "code",
      "execution_count": null,
      "metadata": {
        "colab": {
          "base_uri": "https://localhost:8080/"
        },
        "id": "54vwVRqXRDyn",
        "outputId": "591ab74e-af16-47f0-932b-ebcfdb0ca85e"
      },
      "outputs": [
        {
          "name": "stdout",
          "output_type": "stream",
          "text": [
            "fatal: destination path '.' already exists and is not an empty directory.\n"
          ]
        }
      ],
      "source": [
        "!git clone https://github.com/mikasso/nasdaq_forecasting"
      ]
    },
    {
      "cell_type": "code",
      "execution_count": null,
      "metadata": {
        "colab": {
          "base_uri": "https://localhost:8080/",
          "height": 1000
        },
        "id": "htqOqFKU9joZ",
        "outputId": "a14334b8-2182-469f-f582-5fc72d482790"
      },
      "outputs": [
        {
          "name": "stdout",
          "output_type": "stream",
          "text": [
            "Looking in indexes: https://pypi.org/simple, https://us-python.pkg.dev/colab-wheels/public/simple/\n",
            "Requirement already satisfied: pandas==2.0.0 in /usr/local/lib/python3.10/dist-packages (from -r requirements.txt (line 1)) (2.0.0)\n",
            "Requirement already satisfied: matplotlib==3.7.1 in /usr/local/lib/python3.10/dist-packages (from -r requirements.txt (line 2)) (3.7.1)\n",
            "Requirement already satisfied: joblib>=1.2.0 in /usr/local/lib/python3.10/dist-packages (from -r requirements.txt (line 3)) (1.2.0)\n",
            "Requirement already satisfied: scikit-learn==1.2.1 in /usr/local/lib/python3.10/dist-packages (from -r requirements.txt (line 4)) (1.2.1)\n",
            "Requirement already satisfied: fastparquet>=2023.2.0 in /usr/local/lib/python3.10/dist-packages (from -r requirements.txt (line 5)) (2023.4.0)\n",
            "Collecting darts==0.23.1 (from -r requirements.txt (line 6))\n",
            "  Using cached darts-0.23.1-py3-none-any.whl (592 kB)\n",
            "Requirement already satisfied: pandas_market_calendars in /usr/local/lib/python3.10/dist-packages (from -r requirements.txt (line 7)) (4.1.4)\n",
            "Requirement already satisfied: dask>2023.3.2 in /usr/local/lib/python3.10/dist-packages (from -r requirements.txt (line 8)) (2023.5.0)\n",
            "Requirement already satisfied: distributed>2023.3.2 in /usr/local/lib/python3.10/dist-packages (from -r requirements.txt (line 9)) (2023.5.0)\n",
            "Requirement already satisfied: python-dateutil>=2.8.2 in /usr/local/lib/python3.10/dist-packages (from pandas==2.0.0->-r requirements.txt (line 1)) (2.8.2)\n",
            "Requirement already satisfied: pytz>=2020.1 in /usr/local/lib/python3.10/dist-packages (from pandas==2.0.0->-r requirements.txt (line 1)) (2022.7.1)\n",
            "Requirement already satisfied: tzdata>=2022.1 in /usr/local/lib/python3.10/dist-packages (from pandas==2.0.0->-r requirements.txt (line 1)) (2023.3)\n",
            "Requirement already satisfied: numpy>=1.21.0 in /usr/local/lib/python3.10/dist-packages (from pandas==2.0.0->-r requirements.txt (line 1)) (1.24.2)\n",
            "Requirement already satisfied: contourpy>=1.0.1 in /usr/local/lib/python3.10/dist-packages (from matplotlib==3.7.1->-r requirements.txt (line 2)) (1.0.7)\n",
            "Requirement already satisfied: cycler>=0.10 in /usr/local/lib/python3.10/dist-packages (from matplotlib==3.7.1->-r requirements.txt (line 2)) (0.11.0)\n",
            "Requirement already satisfied: fonttools>=4.22.0 in /usr/local/lib/python3.10/dist-packages (from matplotlib==3.7.1->-r requirements.txt (line 2)) (4.39.3)\n",
            "Requirement already satisfied: kiwisolver>=1.0.1 in /usr/local/lib/python3.10/dist-packages (from matplotlib==3.7.1->-r requirements.txt (line 2)) (1.4.4)\n",
            "Requirement already satisfied: packaging>=20.0 in /usr/local/lib/python3.10/dist-packages (from matplotlib==3.7.1->-r requirements.txt (line 2)) (23.1)\n",
            "Requirement already satisfied: pillow>=6.2.0 in /usr/local/lib/python3.10/dist-packages (from matplotlib==3.7.1->-r requirements.txt (line 2)) (8.4.0)\n",
            "Requirement already satisfied: pyparsing>=2.3.1 in /usr/local/lib/python3.10/dist-packages (from matplotlib==3.7.1->-r requirements.txt (line 2)) (3.0.9)\n",
            "Requirement already satisfied: scipy>=1.3.2 in /usr/local/lib/python3.10/dist-packages (from scikit-learn==1.2.1->-r requirements.txt (line 4)) (1.10.1)\n",
            "Requirement already satisfied: threadpoolctl>=2.0.0 in /usr/local/lib/python3.10/dist-packages (from scikit-learn==1.2.1->-r requirements.txt (line 4)) (3.1.0)\n",
            "Requirement already satisfied: catboost>=1.0.6 in /usr/local/lib/python3.10/dist-packages (from darts==0.23.1->-r requirements.txt (line 6)) (1.2)\n",
            "Requirement already satisfied: holidays>=0.11.1 in /usr/local/lib/python3.10/dist-packages (from darts==0.23.1->-r requirements.txt (line 6)) (0.23)\n",
            "Requirement already satisfied: lightgbm>=3.2.0 in /usr/local/lib/python3.10/dist-packages (from darts==0.23.1->-r requirements.txt (line 6)) (3.3.5)\n",
            "Requirement already satisfied: nfoursid>=1.0.0 in /usr/local/lib/python3.10/dist-packages (from darts==0.23.1->-r requirements.txt (line 6)) (1.0.1)\n",
            "Requirement already satisfied: pmdarima>=1.8.0 in /usr/local/lib/python3.10/dist-packages (from darts==0.23.1->-r requirements.txt (line 6)) (2.0.3)\n",
            "Requirement already satisfied: prophet>=1.1.1 in /usr/local/lib/python3.10/dist-packages (from darts==0.23.1->-r requirements.txt (line 6)) (1.1.2)\n",
            "Requirement already satisfied: pyod>=0.9.5 in /usr/local/lib/python3.10/dist-packages (from darts==0.23.1->-r requirements.txt (line 6)) (1.0.9)\n",
            "Requirement already satisfied: requests>=2.22.0 in /usr/local/lib/python3.10/dist-packages (from darts==0.23.1->-r requirements.txt (line 6)) (2.27.1)\n",
            "Requirement already satisfied: shap>=0.40.0 in /usr/local/lib/python3.10/dist-packages (from darts==0.23.1->-r requirements.txt (line 6)) (0.41.0)\n",
            "Requirement already satisfied: statsforecast>=1.0.0 in /usr/local/lib/python3.10/dist-packages (from darts==0.23.1->-r requirements.txt (line 6)) (1.5.0)\n",
            "Requirement already satisfied: statsmodels>=0.13.0 in /usr/local/lib/python3.10/dist-packages (from darts==0.23.1->-r requirements.txt (line 6)) (0.13.5)\n",
            "Requirement already satisfied: tbats>=1.1.0 in /usr/local/lib/python3.10/dist-packages (from darts==0.23.1->-r requirements.txt (line 6)) (1.1.3)\n",
            "Requirement already satisfied: tqdm>=4.60.0 in /usr/local/lib/python3.10/dist-packages (from darts==0.23.1->-r requirements.txt (line 6)) (4.65.0)\n",
            "Requirement already satisfied: xarray>=0.17.0 in /usr/local/lib/python3.10/dist-packages (from darts==0.23.1->-r requirements.txt (line 6)) (2022.12.0)\n",
            "Requirement already satisfied: xgboost>=1.6.0 in /usr/local/lib/python3.10/dist-packages (from darts==0.23.1->-r requirements.txt (line 6)) (1.7.5)\n",
            "Requirement already satisfied: pytorch-lightning>=1.5.0 in /usr/local/lib/python3.10/dist-packages (from darts==0.23.1->-r requirements.txt (line 6)) (2.0.2)\n",
            "Requirement already satisfied: torch>=1.8.0 in /usr/local/lib/python3.10/dist-packages (from darts==0.23.1->-r requirements.txt (line 6)) (2.0.0+cu118)\n",
            "Requirement already satisfied: cramjam>=2.3 in /usr/local/lib/python3.10/dist-packages (from fastparquet>=2023.2.0->-r requirements.txt (line 5)) (2.6.2)\n",
            "Requirement already satisfied: fsspec in /usr/local/lib/python3.10/dist-packages (from fastparquet>=2023.2.0->-r requirements.txt (line 5)) (2023.4.0)\n",
            "Requirement already satisfied: exchange-calendars>=3.3 in /usr/local/lib/python3.10/dist-packages (from pandas_market_calendars->-r requirements.txt (line 7)) (4.2.7)\n",
            "Requirement already satisfied: click>=8.0 in /usr/local/lib/python3.10/dist-packages (from dask>2023.3.2->-r requirements.txt (line 8)) (8.1.3)\n",
            "Requirement already satisfied: cloudpickle>=1.5.0 in /usr/local/lib/python3.10/dist-packages (from dask>2023.3.2->-r requirements.txt (line 8)) (2.2.1)\n",
            "Requirement already satisfied: partd>=1.2.0 in /usr/local/lib/python3.10/dist-packages (from dask>2023.3.2->-r requirements.txt (line 8)) (1.4.0)\n",
            "Requirement already satisfied: pyyaml>=5.3.1 in /usr/local/lib/python3.10/dist-packages (from dask>2023.3.2->-r requirements.txt (line 8)) (6.0)\n",
            "Requirement already satisfied: toolz>=0.10.0 in /usr/local/lib/python3.10/dist-packages (from dask>2023.3.2->-r requirements.txt (line 8)) (0.12.0)\n",
            "Requirement already satisfied: importlib-metadata>=4.13.0 in /usr/local/lib/python3.10/dist-packages (from dask>2023.3.2->-r requirements.txt (line 8)) (6.6.0)\n",
            "Requirement already satisfied: jinja2>=2.10.3 in /usr/local/lib/python3.10/dist-packages (from distributed>2023.3.2->-r requirements.txt (line 9)) (3.1.2)\n",
            "Requirement already satisfied: locket>=1.0.0 in /usr/local/lib/python3.10/dist-packages (from distributed>2023.3.2->-r requirements.txt (line 9)) (1.0.0)\n",
            "Requirement already satisfied: msgpack>=1.0.0 in /usr/local/lib/python3.10/dist-packages (from distributed>2023.3.2->-r requirements.txt (line 9)) (1.0.5)\n",
            "Requirement already satisfied: psutil>=5.7.0 in /usr/local/lib/python3.10/dist-packages (from distributed>2023.3.2->-r requirements.txt (line 9)) (5.9.5)\n",
            "Requirement already satisfied: sortedcontainers>=2.0.5 in /usr/local/lib/python3.10/dist-packages (from distributed>2023.3.2->-r requirements.txt (line 9)) (2.4.0)\n",
            "Requirement already satisfied: tblib>=1.6.0 in /usr/local/lib/python3.10/dist-packages (from distributed>2023.3.2->-r requirements.txt (line 9)) (1.7.0)\n",
            "Requirement already satisfied: tornado>=6.0.3 in /usr/local/lib/python3.10/dist-packages (from distributed>2023.3.2->-r requirements.txt (line 9)) (6.3.1)\n",
            "Requirement already satisfied: urllib3>=1.24.3 in /usr/local/lib/python3.10/dist-packages (from distributed>2023.3.2->-r requirements.txt (line 9)) (1.26.15)\n",
            "Requirement already satisfied: zict>=2.2.0 in /usr/local/lib/python3.10/dist-packages (from distributed>2023.3.2->-r requirements.txt (line 9)) (3.0.0)\n",
            "Requirement already satisfied: graphviz in /usr/local/lib/python3.10/dist-packages (from catboost>=1.0.6->darts==0.23.1->-r requirements.txt (line 6)) (0.20.1)\n",
            "Requirement already satisfied: plotly in /usr/local/lib/python3.10/dist-packages (from catboost>=1.0.6->darts==0.23.1->-r requirements.txt (line 6)) (5.13.1)\n",
            "Requirement already satisfied: six in /usr/local/lib/python3.10/dist-packages (from catboost>=1.0.6->darts==0.23.1->-r requirements.txt (line 6)) (1.16.0)\n",
            "Requirement already satisfied: pyluach in /usr/local/lib/python3.10/dist-packages (from exchange-calendars>=3.3->pandas_market_calendars->-r requirements.txt (line 7)) (2.2.0)\n",
            "Requirement already satisfied: korean-lunar-calendar in /usr/local/lib/python3.10/dist-packages (from exchange-calendars>=3.3->pandas_market_calendars->-r requirements.txt (line 7)) (0.3.1)\n",
            "Requirement already satisfied: convertdate>=2.3.0 in /usr/local/lib/python3.10/dist-packages (from holidays>=0.11.1->darts==0.23.1->-r requirements.txt (line 6)) (2.4.0)\n",
            "Requirement already satisfied: hijri-converter in /usr/local/lib/python3.10/dist-packages (from holidays>=0.11.1->darts==0.23.1->-r requirements.txt (line 6)) (2.3.1)\n",
            "Requirement already satisfied: zipp>=0.5 in /usr/local/lib/python3.10/dist-packages (from importlib-metadata>=4.13.0->dask>2023.3.2->-r requirements.txt (line 8)) (3.15.0)\n",
            "Requirement already satisfied: MarkupSafe>=2.0 in /usr/local/lib/python3.10/dist-packages (from jinja2>=2.10.3->distributed>2023.3.2->-r requirements.txt (line 9)) (2.1.2)\n",
            "Requirement already satisfied: wheel in /usr/local/lib/python3.10/dist-packages (from lightgbm>=3.2.0->darts==0.23.1->-r requirements.txt (line 6)) (0.40.0)\n",
            "Requirement already satisfied: Cython!=0.29.18,!=0.29.31,>=0.29 in /usr/local/lib/python3.10/dist-packages (from pmdarima>=1.8.0->darts==0.23.1->-r requirements.txt (line 6)) (0.29.34)\n",
            "Requirement already satisfied: setuptools!=50.0.0,>=38.6.0 in /usr/local/lib/python3.10/dist-packages (from pmdarima>=1.8.0->darts==0.23.1->-r requirements.txt (line 6)) (67.7.2)\n",
            "Requirement already satisfied: cmdstanpy>=1.0.4 in /usr/local/lib/python3.10/dist-packages (from prophet>=1.1.1->darts==0.23.1->-r requirements.txt (line 6)) (1.1.0)\n",
            "Requirement already satisfied: LunarCalendar>=0.0.9 in /usr/local/lib/python3.10/dist-packages (from prophet>=1.1.1->darts==0.23.1->-r requirements.txt (line 6)) (0.0.9)\n",
            "Requirement already satisfied: numba>=0.51 in /usr/local/lib/python3.10/dist-packages (from pyod>=0.9.5->darts==0.23.1->-r requirements.txt (line 6)) (0.57.0)\n",
            "Requirement already satisfied: torchmetrics>=0.7.0 in /usr/local/lib/python3.10/dist-packages (from pytorch-lightning>=1.5.0->darts==0.23.1->-r requirements.txt (line 6)) (0.11.4)\n",
            "Requirement already satisfied: typing-extensions>=4.0.0 in /usr/local/lib/python3.10/dist-packages (from pytorch-lightning>=1.5.0->darts==0.23.1->-r requirements.txt (line 6)) (4.5.0)\n",
            "Requirement already satisfied: lightning-utilities>=0.7.0 in /usr/local/lib/python3.10/dist-packages (from pytorch-lightning>=1.5.0->darts==0.23.1->-r requirements.txt (line 6)) (0.8.0)\n",
            "Requirement already satisfied: certifi>=2017.4.17 in /usr/local/lib/python3.10/dist-packages (from requests>=2.22.0->darts==0.23.1->-r requirements.txt (line 6)) (2022.12.7)\n",
            "Requirement already satisfied: charset-normalizer~=2.0.0 in /usr/local/lib/python3.10/dist-packages (from requests>=2.22.0->darts==0.23.1->-r requirements.txt (line 6)) (2.0.12)\n",
            "Requirement already satisfied: idna<4,>=2.5 in /usr/local/lib/python3.10/dist-packages (from requests>=2.22.0->darts==0.23.1->-r requirements.txt (line 6)) (3.4)\n",
            "Requirement already satisfied: slicer==0.0.7 in /usr/local/lib/python3.10/dist-packages (from shap>=0.40.0->darts==0.23.1->-r requirements.txt (line 6)) (0.0.7)\n",
            "Requirement already satisfied: plotly-resampler in /usr/local/lib/python3.10/dist-packages (from statsforecast>=1.0.0->darts==0.23.1->-r requirements.txt (line 6)) (0.2.4)\n",
            "Requirement already satisfied: fugue>=0.8.1 in /usr/local/lib/python3.10/dist-packages (from statsforecast>=1.0.0->darts==0.23.1->-r requirements.txt (line 6)) (0.8.1)\n",
            "Requirement already satisfied: patsy>=0.5.2 in /usr/local/lib/python3.10/dist-packages (from statsmodels>=0.13.0->darts==0.23.1->-r requirements.txt (line 6)) (0.5.3)\n",
            "Requirement already satisfied: filelock in /usr/local/lib/python3.10/dist-packages (from torch>=1.8.0->darts==0.23.1->-r requirements.txt (line 6)) (3.12.0)\n",
            "Requirement already satisfied: sympy in /usr/local/lib/python3.10/dist-packages (from torch>=1.8.0->darts==0.23.1->-r requirements.txt (line 6)) (1.11.1)\n",
            "Requirement already satisfied: networkx in /usr/local/lib/python3.10/dist-packages (from torch>=1.8.0->darts==0.23.1->-r requirements.txt (line 6)) (3.1)\n",
            "Requirement already satisfied: triton==2.0.0 in /usr/local/lib/python3.10/dist-packages (from torch>=1.8.0->darts==0.23.1->-r requirements.txt (line 6)) (2.0.0)\n",
            "Requirement already satisfied: cmake in /usr/local/lib/python3.10/dist-packages (from triton==2.0.0->torch>=1.8.0->darts==0.23.1->-r requirements.txt (line 6)) (3.25.2)\n",
            "Requirement already satisfied: lit in /usr/local/lib/python3.10/dist-packages (from triton==2.0.0->torch>=1.8.0->darts==0.23.1->-r requirements.txt (line 6)) (16.0.3)\n",
            "Requirement already satisfied: pymeeus<=1,>=0.3.13 in /usr/local/lib/python3.10/dist-packages (from convertdate>=2.3.0->holidays>=0.11.1->darts==0.23.1->-r requirements.txt (line 6)) (0.5.12)\n",
            "Requirement already satisfied: aiohttp!=4.0.0a0,!=4.0.0a1 in /usr/local/lib/python3.10/dist-packages (from fsspec->fastparquet>=2023.2.0->-r requirements.txt (line 5)) (3.8.4)\n",
            "Requirement already satisfied: triad>=0.8.1 in /usr/local/lib/python3.10/dist-packages (from fugue>=0.8.1->statsforecast>=1.0.0->darts==0.23.1->-r requirements.txt (line 6)) (0.8.7)\n",
            "Requirement already satisfied: adagio>=0.2.4 in /usr/local/lib/python3.10/dist-packages (from fugue>=0.8.1->statsforecast>=1.0.0->darts==0.23.1->-r requirements.txt (line 6)) (0.2.4)\n",
            "Requirement already satisfied: qpd>=0.4.0 in /usr/local/lib/python3.10/dist-packages (from fugue>=0.8.1->statsforecast>=1.0.0->darts==0.23.1->-r requirements.txt (line 6)) (0.4.1)\n",
            "Requirement already satisfied: fugue-sql-antlr>=0.1.5 in /usr/local/lib/python3.10/dist-packages (from fugue>=0.8.1->statsforecast>=1.0.0->darts==0.23.1->-r requirements.txt (line 6)) (0.1.6)\n",
            "Requirement already satisfied: sqlalchemy in /usr/local/lib/python3.10/dist-packages (from fugue>=0.8.1->statsforecast>=1.0.0->darts==0.23.1->-r requirements.txt (line 6)) (2.0.10)\n",
            "Requirement already satisfied: sqlglot in /usr/local/lib/python3.10/dist-packages (from fugue>=0.8.1->statsforecast>=1.0.0->darts==0.23.1->-r requirements.txt (line 6)) (12.4.0)\n",
            "Requirement already satisfied: pyarrow>=0.15.1 in /usr/local/lib/python3.10/dist-packages (from fugue>=0.8.1->statsforecast>=1.0.0->darts==0.23.1->-r requirements.txt (line 6)) (9.0.0)\n",
            "Requirement already satisfied: ephem>=3.7.5.3 in /usr/local/lib/python3.10/dist-packages (from LunarCalendar>=0.0.9->prophet>=1.1.1->darts==0.23.1->-r requirements.txt (line 6)) (4.1.4)\n",
            "Requirement already satisfied: llvmlite<0.41,>=0.40.0dev0 in /usr/local/lib/python3.10/dist-packages (from numba>=0.51->pyod>=0.9.5->darts==0.23.1->-r requirements.txt (line 6)) (0.40.0)\n",
            "Requirement already satisfied: tenacity>=6.2.0 in /usr/local/lib/python3.10/dist-packages (from plotly->catboost>=1.0.6->darts==0.23.1->-r requirements.txt (line 6)) (8.2.2)\n",
            "Requirement already satisfied: dash<3.0.0,>=2.0.0 in /usr/local/lib/python3.10/dist-packages (from plotly-resampler->statsforecast>=1.0.0->darts==0.23.1->-r requirements.txt (line 6)) (2.9.3)\n",
            "Requirement already satisfied: dash-bootstrap-components<0.14.0,>=0.13.1 in /usr/local/lib/python3.10/dist-packages (from plotly-resampler->statsforecast>=1.0.0->darts==0.23.1->-r requirements.txt (line 6)) (0.13.1)\n",
            "Requirement already satisfied: jupyter-dash<0.5.0,>=0.4.0 in /usr/local/lib/python3.10/dist-packages (from plotly-resampler->statsforecast>=1.0.0->darts==0.23.1->-r requirements.txt (line 6)) (0.4.2)\n",
            "Requirement already satisfied: lttbc<0.3.0,>=0.2.0 in /usr/local/lib/python3.10/dist-packages (from plotly-resampler->statsforecast>=1.0.0->darts==0.23.1->-r requirements.txt (line 6)) (0.2.1)\n",
            "Requirement already satisfied: orjson<4.0.0,>=3.6.4 in /usr/local/lib/python3.10/dist-packages (from plotly-resampler->statsforecast>=1.0.0->darts==0.23.1->-r requirements.txt (line 6)) (3.8.12)\n",
            "Requirement already satisfied: trace-updater<0.0.7,>=0.0.6 in /usr/local/lib/python3.10/dist-packages (from plotly-resampler->statsforecast>=1.0.0->darts==0.23.1->-r requirements.txt (line 6)) (0.0.6)\n",
            "Requirement already satisfied: mpmath>=0.19 in /usr/local/lib/python3.10/dist-packages (from sympy->torch>=1.8.0->darts==0.23.1->-r requirements.txt (line 6)) (1.3.0)\n",
            "Requirement already satisfied: attrs>=17.3.0 in /usr/local/lib/python3.10/dist-packages (from aiohttp!=4.0.0a0,!=4.0.0a1->fsspec->fastparquet>=2023.2.0->-r requirements.txt (line 5)) (23.1.0)\n",
            "Requirement already satisfied: multidict<7.0,>=4.5 in /usr/local/lib/python3.10/dist-packages (from aiohttp!=4.0.0a0,!=4.0.0a1->fsspec->fastparquet>=2023.2.0->-r requirements.txt (line 5)) (6.0.4)\n",
            "Requirement already satisfied: async-timeout<5.0,>=4.0.0a3 in /usr/local/lib/python3.10/dist-packages (from aiohttp!=4.0.0a0,!=4.0.0a1->fsspec->fastparquet>=2023.2.0->-r requirements.txt (line 5)) (4.0.2)\n",
            "Requirement already satisfied: yarl<2.0,>=1.0 in /usr/local/lib/python3.10/dist-packages (from aiohttp!=4.0.0a0,!=4.0.0a1->fsspec->fastparquet>=2023.2.0->-r requirements.txt (line 5)) (1.9.2)\n",
            "Requirement already satisfied: frozenlist>=1.1.1 in /usr/local/lib/python3.10/dist-packages (from aiohttp!=4.0.0a0,!=4.0.0a1->fsspec->fastparquet>=2023.2.0->-r requirements.txt (line 5)) (1.3.3)\n",
            "Requirement already satisfied: aiosignal>=1.1.2 in /usr/local/lib/python3.10/dist-packages (from aiohttp!=4.0.0a0,!=4.0.0a1->fsspec->fastparquet>=2023.2.0->-r requirements.txt (line 5)) (1.3.1)\n",
            "Requirement already satisfied: Flask>=1.0.4 in /usr/local/lib/python3.10/dist-packages (from dash<3.0.0,>=2.0.0->plotly-resampler->statsforecast>=1.0.0->darts==0.23.1->-r requirements.txt (line 6)) (2.2.4)\n",
            "Requirement already satisfied: dash-html-components==2.0.0 in /usr/local/lib/python3.10/dist-packages (from dash<3.0.0,>=2.0.0->plotly-resampler->statsforecast>=1.0.0->darts==0.23.1->-r requirements.txt (line 6)) (2.0.0)\n",
            "Requirement already satisfied: dash-core-components==2.0.0 in /usr/local/lib/python3.10/dist-packages (from dash<3.0.0,>=2.0.0->plotly-resampler->statsforecast>=1.0.0->darts==0.23.1->-r requirements.txt (line 6)) (2.0.0)\n",
            "Requirement already satisfied: dash-table==5.0.0 in /usr/local/lib/python3.10/dist-packages (from dash<3.0.0,>=2.0.0->plotly-resampler->statsforecast>=1.0.0->darts==0.23.1->-r requirements.txt (line 6)) (5.0.0)\n",
            "Requirement already satisfied: antlr4-python3-runtime<4.12,>=4.11.1 in /usr/local/lib/python3.10/dist-packages (from fugue-sql-antlr>=0.1.5->fugue>=0.8.1->statsforecast>=1.0.0->darts==0.23.1->-r requirements.txt (line 6)) (4.11.1)\n",
            "Requirement already satisfied: retrying in /usr/local/lib/python3.10/dist-packages (from jupyter-dash<0.5.0,>=0.4.0->plotly-resampler->statsforecast>=1.0.0->darts==0.23.1->-r requirements.txt (line 6)) (1.3.4)\n",
            "Requirement already satisfied: ipython in /usr/local/lib/python3.10/dist-packages (from jupyter-dash<0.5.0,>=0.4.0->plotly-resampler->statsforecast>=1.0.0->darts==0.23.1->-r requirements.txt (line 6)) (7.34.0)\n",
            "Requirement already satisfied: ipykernel in /usr/local/lib/python3.10/dist-packages (from jupyter-dash<0.5.0,>=0.4.0->plotly-resampler->statsforecast>=1.0.0->darts==0.23.1->-r requirements.txt (line 6)) (5.5.6)\n",
            "Requirement already satisfied: ansi2html in /usr/local/lib/python3.10/dist-packages (from jupyter-dash<0.5.0,>=0.4.0->plotly-resampler->statsforecast>=1.0.0->darts==0.23.1->-r requirements.txt (line 6)) (1.8.0)\n",
            "Requirement already satisfied: nest-asyncio in /usr/local/lib/python3.10/dist-packages (from jupyter-dash<0.5.0,>=0.4.0->plotly-resampler->statsforecast>=1.0.0->darts==0.23.1->-r requirements.txt (line 6)) (1.5.6)\n",
            "Requirement already satisfied: fs in /usr/local/lib/python3.10/dist-packages (from triad>=0.8.1->fugue>=0.8.1->statsforecast>=1.0.0->darts==0.23.1->-r requirements.txt (line 6)) (2.4.16)\n",
            "Requirement already satisfied: greenlet!=0.4.17 in /usr/local/lib/python3.10/dist-packages (from sqlalchemy->fugue>=0.8.1->statsforecast>=1.0.0->darts==0.23.1->-r requirements.txt (line 6)) (2.0.2)\n",
            "Requirement already satisfied: Werkzeug>=2.2.2 in /usr/local/lib/python3.10/dist-packages (from Flask>=1.0.4->dash<3.0.0,>=2.0.0->plotly-resampler->statsforecast>=1.0.0->darts==0.23.1->-r requirements.txt (line 6)) (2.3.0)\n",
            "Requirement already satisfied: itsdangerous>=2.0 in /usr/local/lib/python3.10/dist-packages (from Flask>=1.0.4->dash<3.0.0,>=2.0.0->plotly-resampler->statsforecast>=1.0.0->darts==0.23.1->-r requirements.txt (line 6)) (2.1.2)\n",
            "Requirement already satisfied: appdirs~=1.4.3 in /usr/local/lib/python3.10/dist-packages (from fs->triad>=0.8.1->fugue>=0.8.1->statsforecast>=1.0.0->darts==0.23.1->-r requirements.txt (line 6)) (1.4.4)\n",
            "Requirement already satisfied: ipython-genutils in /usr/local/lib/python3.10/dist-packages (from ipykernel->jupyter-dash<0.5.0,>=0.4.0->plotly-resampler->statsforecast>=1.0.0->darts==0.23.1->-r requirements.txt (line 6)) (0.2.0)\n",
            "Requirement already satisfied: traitlets>=4.1.0 in /usr/local/lib/python3.10/dist-packages (from ipykernel->jupyter-dash<0.5.0,>=0.4.0->plotly-resampler->statsforecast>=1.0.0->darts==0.23.1->-r requirements.txt (line 6)) (5.7.1)\n",
            "Requirement already satisfied: jupyter-client in /usr/local/lib/python3.10/dist-packages (from ipykernel->jupyter-dash<0.5.0,>=0.4.0->plotly-resampler->statsforecast>=1.0.0->darts==0.23.1->-r requirements.txt (line 6)) (6.1.12)\n",
            "Requirement already satisfied: jedi>=0.16 in /usr/local/lib/python3.10/dist-packages (from ipython->jupyter-dash<0.5.0,>=0.4.0->plotly-resampler->statsforecast>=1.0.0->darts==0.23.1->-r requirements.txt (line 6)) (0.18.2)\n",
            "Requirement already satisfied: decorator in /usr/local/lib/python3.10/dist-packages (from ipython->jupyter-dash<0.5.0,>=0.4.0->plotly-resampler->statsforecast>=1.0.0->darts==0.23.1->-r requirements.txt (line 6)) (4.4.2)\n",
            "Requirement already satisfied: pickleshare in /usr/local/lib/python3.10/dist-packages (from ipython->jupyter-dash<0.5.0,>=0.4.0->plotly-resampler->statsforecast>=1.0.0->darts==0.23.1->-r requirements.txt (line 6)) (0.7.5)\n",
            "Requirement already satisfied: prompt-toolkit!=3.0.0,!=3.0.1,<3.1.0,>=2.0.0 in /usr/local/lib/python3.10/dist-packages (from ipython->jupyter-dash<0.5.0,>=0.4.0->plotly-resampler->statsforecast>=1.0.0->darts==0.23.1->-r requirements.txt (line 6)) (3.0.38)\n",
            "Requirement already satisfied: pygments in /usr/local/lib/python3.10/dist-packages (from ipython->jupyter-dash<0.5.0,>=0.4.0->plotly-resampler->statsforecast>=1.0.0->darts==0.23.1->-r requirements.txt (line 6)) (2.14.0)\n",
            "Requirement already satisfied: backcall in /usr/local/lib/python3.10/dist-packages (from ipython->jupyter-dash<0.5.0,>=0.4.0->plotly-resampler->statsforecast>=1.0.0->darts==0.23.1->-r requirements.txt (line 6)) (0.2.0)\n",
            "Requirement already satisfied: matplotlib-inline in /usr/local/lib/python3.10/dist-packages (from ipython->jupyter-dash<0.5.0,>=0.4.0->plotly-resampler->statsforecast>=1.0.0->darts==0.23.1->-r requirements.txt (line 6)) (0.1.6)\n",
            "Requirement already satisfied: pexpect>4.3 in /usr/local/lib/python3.10/dist-packages (from ipython->jupyter-dash<0.5.0,>=0.4.0->plotly-resampler->statsforecast>=1.0.0->darts==0.23.1->-r requirements.txt (line 6)) (4.8.0)\n",
            "Requirement already satisfied: parso<0.9.0,>=0.8.0 in /usr/local/lib/python3.10/dist-packages (from jedi>=0.16->ipython->jupyter-dash<0.5.0,>=0.4.0->plotly-resampler->statsforecast>=1.0.0->darts==0.23.1->-r requirements.txt (line 6)) (0.8.3)\n",
            "Requirement already satisfied: ptyprocess>=0.5 in /usr/local/lib/python3.10/dist-packages (from pexpect>4.3->ipython->jupyter-dash<0.5.0,>=0.4.0->plotly-resampler->statsforecast>=1.0.0->darts==0.23.1->-r requirements.txt (line 6)) (0.7.0)\n",
            "Requirement already satisfied: wcwidth in /usr/local/lib/python3.10/dist-packages (from prompt-toolkit!=3.0.0,!=3.0.1,<3.1.0,>=2.0.0->ipython->jupyter-dash<0.5.0,>=0.4.0->plotly-resampler->statsforecast>=1.0.0->darts==0.23.1->-r requirements.txt (line 6)) (0.2.6)\n",
            "Requirement already satisfied: jupyter-core>=4.6.0 in /usr/local/lib/python3.10/dist-packages (from jupyter-client->ipykernel->jupyter-dash<0.5.0,>=0.4.0->plotly-resampler->statsforecast>=1.0.0->darts==0.23.1->-r requirements.txt (line 6)) (5.3.0)\n",
            "Requirement already satisfied: pyzmq>=13 in /usr/local/lib/python3.10/dist-packages (from jupyter-client->ipykernel->jupyter-dash<0.5.0,>=0.4.0->plotly-resampler->statsforecast>=1.0.0->darts==0.23.1->-r requirements.txt (line 6)) (23.2.1)\n",
            "Requirement already satisfied: platformdirs>=2.5 in /usr/local/lib/python3.10/dist-packages (from jupyter-core>=4.6.0->jupyter-client->ipykernel->jupyter-dash<0.5.0,>=0.4.0->plotly-resampler->statsforecast>=1.0.0->darts==0.23.1->-r requirements.txt (line 6)) (3.3.0)\n",
            "Installing collected packages: darts\n",
            "  Attempting uninstall: darts\n",
            "    Found existing installation: darts 0.24.0\n",
            "    Uninstalling darts-0.24.0:\n",
            "      Successfully uninstalled darts-0.24.0\n",
            "Successfully installed darts-0.23.1\n"
          ]
        },
        {
          "data": {
            "application/vnd.colab-display-data+json": {
              "pip_warning": {
                "packages": [
                  "darts"
                ]
              }
            }
          },
          "metadata": {},
          "output_type": "display_data"
        }
      ],
      "source": [
        "!pip install -r requirements.txt -U"
      ]
    },
    {
      "cell_type": "code",
      "execution_count": null,
      "metadata": {
        "id": "RlJnFaE0Hep_"
      },
      "outputs": [],
      "source": [
        "import sys\n",
        "import shutil\n",
        "sys.path.append('/content/nasdaq_forecasting')\n"
      ]
    },
    {
      "cell_type": "code",
      "execution_count": null,
      "metadata": {
        "colab": {
          "base_uri": "https://localhost:8080/"
        },
        "id": "2OyxdpA55zEB",
        "outputId": "78b4fb24-85c2-4ca3-e397-2d9a65a34a54"
      },
      "outputs": [
        {
          "name": "stdout",
          "output_type": "stream",
          "text": [
            "Drive already mounted at /content/drive; to attempt to forcibly remount, call drive.mount(\"/content/drive\", force_remount=True).\n"
          ]
        }
      ],
      "source": [
        "import enum\n",
        "import logging\n",
        "import model_rnn\n",
        "import model_tft\n",
        "import model_transformer\n",
        "import _predict\n",
        "from const import ModelConfig, RNN_NETWORKS, ModelTypes\n",
        "from utils import create_folder, assert_pytorch_is_using_gpu\n",
        "import validate\n",
        "import view_results\n",
        "from datasets import SeqDataset, Datasets, DatasetAccesor, DatasetTransformer, load_datasets\n",
        "from google.colab import drive\n",
        "import shutil\n",
        "\n",
        "logging.basicConfig(level=logging.INFO)\n",
        "LOGGER = logging.getLogger(name=\"Main runner\")\n",
        "\n",
        "\n",
        "def dispatch_model_training(config: ModelConfig):\n",
        "    if config.model_type in RNN_NETWORKS:\n",
        "        model_rnn.main(config)\n",
        "    elif config.model_type == ModelTypes.tft:\n",
        "        model_tft.main(config)\n",
        "    elif config.model_type == ModelTypes.transformer:\n",
        "        model_transformer.main(config)\n",
        "    else:\n",
        "        LOGGER.warning(f\"Unrecognized model type {config.model_type}\")\n",
        "\n",
        "\n",
        "if __name__ == \"__main__\":\n",
        "    assert_pytorch_is_using_gpu()\n",
        "    drive.mount('/content/drive')\n",
        "    models = [\n",
        "        ModelConfig(ModelTypes.rnn, 1),\n",
        "        ModelConfig(ModelTypes.gru, 1),\n",
        "        ModelConfig(ModelTypes.lstm, 1),\n",
        "        ModelConfig(ModelTypes.transformer, 1),\n",
        "        ModelConfig(ModelTypes.tft, 1),\n",
        "        ModelConfig(ModelTypes.rnn, 7),\n",
        "        ModelConfig(ModelTypes.gru, 7),\n",
        "        ModelConfig(ModelTypes.lstm, 7),\n",
        "        ModelConfig(ModelTypes.transformer, 7),\n",
        "        ModelConfig(ModelTypes.tft, 7),\n",
        "    ]\n",
        "\n",
        "    for model_config in models:\n",
        "        LOGGER.info(f\"Running model: {model_config.model_name}\")\n",
        "        create_folder(model_config.result_path, delete_if_exists=True)\n",
        "        dispatch_model_training(model_config)\n",
        "        validate.main(model_config)\n",
        "        LOGGER.info(f\"Finished running model: {model_config.model_name}\")\n",
        "        shutil.copytree(f\"results/{model_config.model_name}\", f\"drive/MyDrive/nasdaq/results/{model_config.model_name}\", dirs_exist_ok=True)  \n",
        "        shutil.copytree(f\"darts_logs/{model_config.model_name}\", f\"drive/MyDrive/nasdaq/models/{model_config.model_name}\", dirs_exist_ok=True)  \n",
        "        break\n",
        " \n",
        "  \n",
        "   \n"
      ]
    },
    {
      "cell_type": "code",
      "execution_count": null,
      "metadata": {
        "colab": {
          "base_uri": "https://localhost:8080/",
          "height": 53
        },
        "id": "hlkT2uNnWElP",
        "outputId": "e6b557e6-321a-4f29-de3d-8aa2bc23f31f"
      },
      "outputs": [
        {
          "name": "stdout",
          "output_type": "stream",
          "text": [
            "Drive already mounted at /content/drive; to attempt to forcibly remount, call drive.mount(\"/content/drive\", force_remount=True).\n"
          ]
        },
        {
          "data": {
            "application/vnd.google.colaboratory.intrinsic+json": {
              "type": "string"
            },
            "text/plain": [
              "'drive/MyDrive/nasdaq/models'"
            ]
          },
          "execution_count": 13,
          "metadata": {},
          "output_type": "execute_result"
        }
      ],
      "source": []
    }
  ],
  "metadata": {
    "accelerator": "GPU",
    "colab": {
      "gpuType": "T4",
      "provenance": []
    },
    "gpuClass": "standard",
    "kernelspec": {
      "display_name": "Python 3",
      "name": "python3"
    },
    "language_info": {
      "name": "python"
    }
  },
  "nbformat": 4,
  "nbformat_minor": 0
}
